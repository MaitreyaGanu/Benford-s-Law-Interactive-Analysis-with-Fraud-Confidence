{
 "cells": [
  {
   "cell_type": "code",
   "execution_count": 8,
   "id": "a9dcbf1e-b723-4ac2-8338-5d808cc762b9",
   "metadata": {},
   "outputs": [
    {
     "name": "stdout",
     "output_type": "stream",
     "text": [
      "* Running on local URL:  http://127.0.0.1:7864\n",
      "\n",
      "To create a public link, set `share=True` in `launch()`.\n"
     ]
    },
    {
     "data": {
      "text/html": [
       "<div><iframe src=\"http://127.0.0.1:7864/\" width=\"100%\" height=\"500\" allow=\"autoplay; camera; microphone; clipboard-read; clipboard-write;\" frameborder=\"0\" allowfullscreen></iframe></div>"
      ],
      "text/plain": [
       "<IPython.core.display.HTML object>"
      ]
     },
     "metadata": {},
     "output_type": "display_data"
    },
    {
     "data": {
      "text/plain": []
     },
     "execution_count": 8,
     "metadata": {},
     "output_type": "execute_result"
    }
   ],
   "source": [
    "import gradio as gr\n",
    "import pandas as pd\n",
    "import numpy as np\n",
    "import matplotlib.pyplot as plt\n",
    "\n",
    "def benfords_law_analysis_with_confidence(file, column):\n",
    "    df = pd.read_csv(file.name)\n",
    "    data = pd.to_numeric(df[column], errors='coerce').dropna()\n",
    "    data = data[data > 0]\n",
    "    if data.empty:\n",
    "        return None, \"No valid positive numeric data in this column.\"\n",
    "\n",
    "    first_digits = data.astype(str).str.replace(r'\\D', '', regex=True).str[0].astype(int)\n",
    "    actual_freq = first_digits.value_counts(normalize=True).sort_index()\n",
    "    benford_freq = np.log10(1 + 1 / np.arange(1, 10))\n",
    "    benford_series = pd.Series(benford_freq, index=np.arange(1, 10))\n",
    "\n",
    "    # Align indexes\n",
    "    actual_freq = actual_freq.reindex(np.arange(1, 10), fill_value=0)\n",
    "    digits = np.arange(1, 10)\n",
    "\n",
    "    # Plot\n",
    "    fig, ax = plt.subplots(figsize=(10, 6))\n",
    "    # Actual data as bar graph\n",
    "    ax.bar(digits, actual_freq, width=0.6, alpha=0.7, label=\"Expected Frequencies (Bar)\", color='skyblue', zorder=1)\n",
    "    # Benford's expected as line graph\n",
    "    ax.plot(digits, benford_series, color='red', marker='o', linewidth=2, label=\"Theoretical Benford Frequencies (Line)\", zorder=2)\n",
    "    ax.set_xlabel('Leading Digit')\n",
    "    ax.set_ylabel('Frequency')\n",
    "    ax.set_xticks(digits)\n",
    "    ax.legend()\n",
    "    ax.set_title(f\"Benford's Law: Expected Frequencies (Bar) and Theoretical Frequencies (Line)\")\n",
    "    plt.tight_layout()\n",
    "\n",
    "    # Calculate fraud confidence\n",
    "    deviation = actual_freq - benford_series\n",
    "    total_deviation = np.sum(np.abs(deviation))\n",
    "    max_deviation = 0.5  # Empirical threshold\n",
    "    confidence = min(1.0, total_deviation / max_deviation) * 100\n",
    "    fraud_threshold = 30  # If confidence exceeds this, flag as fraud\n",
    "    fraud_detected = confidence >= fraud_threshold\n",
    "    fraud_message = f\"Fraud detected with {confidence:.1f}% confidence.\" if fraud_detected else f\"No significant fraud detected (confidence {confidence:.1f}%).\"\n",
    "\n",
    "    return fig, fraud_message\n",
    "\n",
    "def get_column_names(file):\n",
    "    df = pd.read_csv(file.name, nrows=1)\n",
    "    return list(df.columns)\n",
    "\n",
    "with gr.Blocks() as demo:\n",
    "    gr.Markdown(\"# Benford's Law Interactive Analysis with Fraud Confidence\")\n",
    "    file_input = gr.File(label=\"Upload CSV File\")\n",
    "    column_dropdown = gr.Dropdown(label=\"Select Column\", choices=[], interactive=True)\n",
    "    analyze_btn = gr.Button(\"Analyze\")\n",
    "    output_plot = gr.Plot()\n",
    "    output_text = gr.Textbox(label=\"Fraud Confidence Result\", interactive=False)\n",
    "\n",
    "    def update_columns(file):\n",
    "        if file is not None:\n",
    "            return gr.update(choices=get_column_names(file))\n",
    "        return gr.update(choices=[])\n",
    "\n",
    "    file_input.change(update_columns, inputs=file_input, outputs=column_dropdown)\n",
    "    analyze_btn.click(benfords_law_analysis_with_confidence, inputs=[file_input, column_dropdown], outputs=[output_plot, output_text])\n",
    "\n",
    "demo.launch()\n"
   ]
  },
  {
   "cell_type": "code",
   "execution_count": null,
   "id": "b424986e-e412-42a4-b43a-d281abeef7bd",
   "metadata": {},
   "outputs": [],
   "source": []
  }
 ],
 "metadata": {
  "kernelspec": {
   "display_name": "Python 3 (ipykernel)",
   "language": "python",
   "name": "python3"
  },
  "language_info": {
   "codemirror_mode": {
    "name": "ipython",
    "version": 3
   },
   "file_extension": ".py",
   "mimetype": "text/x-python",
   "name": "python",
   "nbconvert_exporter": "python",
   "pygments_lexer": "ipython3",
   "version": "3.11.7"
  }
 },
 "nbformat": 4,
 "nbformat_minor": 5
}
